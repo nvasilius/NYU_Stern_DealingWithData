{
 "cells": [
  {
   "cell_type": "markdown",
   "metadata": {
    "deletable": true,
    "editable": true
   },
   "source": [
    "### Assignment 2: Variables, Data Types, Data Structures"
   ]
  },
  {
   "cell_type": "markdown",
   "metadata": {},
   "source": [
    "#### Your name: Nicholas Vasilius\n",
    "\n",
    "#### Your NYU email: nv777@stern.nyu.edu"
   ]
  },
  {
   "cell_type": "markdown",
   "metadata": {
    "deletable": true,
    "editable": true
   },
   "source": [
    "#### (2pts) A. Create a variable named `greeting` that contains the string 'hello world'. Print the variable `greeting`."
   ]
  },
  {
   "cell_type": "code",
   "execution_count": 1,
   "metadata": {
    "collapsed": false,
    "deletable": true,
    "editable": true
   },
   "outputs": [
    {
     "name": "stdout",
     "output_type": "stream",
     "text": [
      "hello world\n",
      "Variable Type is:  <class 'str'>\n"
     ]
    }
   ],
   "source": [
    "greeting = \"hello world\"\n",
    "print(greeting)\n",
    "print(\"Variable Type is: \", type(greeting))"
   ]
  },
  {
   "cell_type": "markdown",
   "metadata": {
    "deletable": true,
    "editable": true
   },
   "source": [
    "#### (4pts) B. You are given the string below that contains all the letters of the alphabet in order. Using indexing and slicing methods, do the following:\n",
    "\n",
    "* Print the first letter of the alphabet\n",
    "* Print the second letter of the alphabet\n",
    "* Print the 3rd to 10th letter of the alphabet (inclusive on both ends)\n",
    "* Print the last letter of the alphabet, using negative indexing\n",
    "* Print the last 10 letters of the alphabet, using negative indexing\n",
    "* Print the fist half of the alphabet; use the `len` command.\n"
   ]
  },
  {
   "cell_type": "code",
   "execution_count": 2,
   "metadata": {
    "collapsed": false,
    "deletable": true,
    "editable": true
   },
   "outputs": [
    {
     "name": "stdout",
     "output_type": "stream",
     "text": [
      "First Letter:                            A\n",
      "Second Letter:                           B\n",
      "Third Through Tenth Letters (Inclusive): CDEFGHIJ\n",
      "Last Letter (Using Negative Index):      Z\n",
      "Last 10 Letters (Using Negative Index):  QRSTUVWXYZ\n"
     ]
    }
   ],
   "source": [
    "alphabet = 'ABCDEFGHIJKLMNOPQRSTUVWXYZ'\n",
    "print(\"First Letter:                           \",alphabet[0])\n",
    "print(\"Second Letter:                          \",alphabet[1])\n",
    "print(\"Third Through Tenth Letters (Inclusive):\",alphabet[2:10])\n",
    "print(\"Last Letter (Using Negative Index):     \",alphabet[-1])\n",
    "print(\"Last 10 Letters (Using Negative Index): \",alphabet[-10:])"
   ]
  },
  {
   "cell_type": "markdown",
   "metadata": {
    "deletable": true,
    "editable": true
   },
   "source": [
    "#### (4pts) C. You are given the height of someone in centimeters. You need to convert it into feet and inches. (Each foot is 30.48 cm. Each inch is 2.54cm. Use variables to store these quantities.). Print the number of feet as an integer, and the number of inches as a decimal with one decimal point."
   ]
  },
  {
   "cell_type": "code",
   "execution_count": 3,
   "metadata": {
    "collapsed": false,
    "deletable": true,
    "editable": true
   },
   "outputs": [
    {
     "name": "stdout",
     "output_type": "stream",
     "text": [
      "Integer Feet: 5\n",
      "Decimal Inches (Method 1 with formatting) 68.9\n",
      "Decimal Inches (Method 2 with rounding)   68.9\n"
     ]
    }
   ],
   "source": [
    "height = 175 #in cm\n",
    "cmToFoot = 30.48\n",
    "cmToInch = 2.54\n",
    "print(\"Integer Feet:\",int(height / cmToFoot))\n",
    "print(\"Decimal Inches (Method 1 with formatting)\", \"%.1f\" % (height / cmToInch))\n",
    "print(\"Decimal Inches (Method 2 with rounding)  \", round(height / cmToInch,1))"
   ]
  },
  {
   "cell_type": "markdown",
   "metadata": {
    "deletable": true,
    "editable": true
   },
   "source": [
    "#### (4pts) D. The Pythagorean Theorem\n",
    "\n",
    "If $a$ and $b$ are the lengths of the two short sides of a right triangle and $c$ is its long side then:\n",
    "\n",
    "$a^2 + b^2 = c^2$\n",
    "\n",
    "You are given a right triangle with side $a=10$ long and side $b=20$ long. How long is side $c$? (Hint: use the math.sqrt function to compute the square root.)"
   ]
  },
  {
   "cell_type": "code",
   "execution_count": 4,
   "metadata": {
    "collapsed": false,
    "deletable": true,
    "editable": true
   },
   "outputs": [
    {
     "name": "stdout",
     "output_type": "stream",
     "text": [
      "1.4142135623730951\n",
      "Method 1 with math.sqrt:    22.360679774997898\n",
      "Method 2 with power of 0.5: 22.360679774997898\n"
     ]
    }
   ],
   "source": [
    "import math\n",
    "print(math.sqrt(2))\n",
    "varA = 10\n",
    "varB = 20\n",
    "varC = math.sqrt((varA**2) + (varB**2))\n",
    "print(\"Method 1 with math.sqrt:   \",varC)\n",
    "varC = ((varA**2) + (varB**2))**0.5\n",
    "print(\"Method 2 with power of 0.5:\",varC)\n"
   ]
  },
  {
   "cell_type": "markdown",
   "metadata": {
    "deletable": true,
    "editable": true
   },
   "source": [
    "###### The Pythagorean Theorem (cont)\n",
    "\n",
    "Conversely, if the formula $a^2 + b^2 = c^2$ holds then a triangle whose sides have length $a$, $b$ and $c$ is a right triangle. You are given below the lengths of the sides of 3 triangles. Write  the boolean expression that checks if the triangle is a right triangle. Assume that `c` is always the longest side.\n"
   ]
  },
  {
   "cell_type": "code",
   "execution_count": 5,
   "metadata": {
    "collapsed": false,
    "deletable": true,
    "editable": true
   },
   "outputs": [
    {
     "name": "stdout",
     "output_type": "stream",
     "text": [
      "Method 1 simple boolean expression:\n",
      "     Triangle 1 is a Right Triangle: False\n",
      "\n",
      " Method 2 using an IF/ELSE block:\n",
      "     Triangle 1 is NOT a Right Triangle!\n"
     ]
    }
   ],
   "source": [
    "# Triangle 1\n",
    "a = 10\n",
    "b = 20\n",
    "c = 30\n",
    "\n",
    "#Setting the triangle name, to make copy/paste faster\n",
    "name = \"Triangle 1\"\n",
    "\n",
    "print(\"Method 1 simple boolean expression:\")\n",
    "print(\"    \", name, \"is a Right Triangle:\", ((a**2) + (b**2))**0.5 == c)\n",
    "\n",
    "print(\"\\n Method 2 using an IF/ELSE block:\")\n",
    "if(((a**2) + (b**2))**0.5 == c):\n",
    "    print(\"    \", name, \"IS a Right Triangle!\")\n",
    "else:\n",
    "    print(\"    \", name, \"is NOT a Right Triangle!\")"
   ]
  },
  {
   "cell_type": "code",
   "execution_count": 6,
   "metadata": {
    "collapsed": false,
    "deletable": true,
    "editable": true
   },
   "outputs": [
    {
     "name": "stdout",
     "output_type": "stream",
     "text": [
      "Method 1 simple boolean expression:\n",
      "     Triangle 2 is a Right Triangle: True\n",
      "\n",
      " Method 2 using an IF/ELSE block:\n",
      "     Triangle 2 IS a Right Triangle!\n"
     ]
    }
   ],
   "source": [
    "# Triangle 2\n",
    "a = 15\n",
    "b = 112\n",
    "c = 113\n",
    "\n",
    "#Setting the triangle name, to make copy/paste faster\n",
    "name = \"Triangle 2\"\n",
    "\n",
    "print(\"Method 1 simple boolean expression:\")\n",
    "print(\"    \", name, \"is a Right Triangle:\", ((a**2) + (b**2))**0.5 == c)\n",
    "\n",
    "print(\"\\n Method 2 using an IF/ELSE block:\")\n",
    "if(((a**2) + (b**2))**0.5 == c):\n",
    "    print(\"    \", name, \"IS a Right Triangle!\")\n",
    "else:\n",
    "    print(\"    \", name, \"is NOT a Right Triangle!\")"
   ]
  },
  {
   "cell_type": "code",
   "execution_count": 7,
   "metadata": {
    "collapsed": false,
    "deletable": true,
    "editable": true
   },
   "outputs": [
    {
     "name": "stdout",
     "output_type": "stream",
     "text": [
      "Method 1 simple boolean expression:\n",
      "     Triangle 3 is a Right Triangle: False\n",
      "\n",
      " Method 2 using an IF/ELSE block:\n",
      "     Triangle 3 is NOT a Right Triangle!\n"
     ]
    }
   ],
   "source": [
    "# Triangle 3\n",
    "a = 96\n",
    "b = 247\n",
    "c = 255\n",
    "\n",
    "#Setting the triangle name, to make copy/paste faster\n",
    "name = \"Triangle 3\"\n",
    "\n",
    "print(\"Method 1 simple boolean expression:\")\n",
    "print(\"    \", name, \"is a Right Triangle:\", ((a**2) + (b**2))**0.5 == c)\n",
    "\n",
    "print(\"\\n Method 2 using an IF/ELSE block:\")\n",
    "if(((a**2) + (b**2))**0.5 == c):\n",
    "    print(\"    \", name, \"IS a Right Triangle!\")\n",
    "else:\n",
    "    print(\"    \", name, \"is NOT a Right Triangle!\")"
   ]
  },
  {
   "cell_type": "markdown",
   "metadata": {
    "deletable": true,
    "editable": true
   },
   "source": [
    "#### (4pts) E. Write Boolean expressions for the following.\n",
    "\n",
    "* Can a student graduate? A student can graduate after completing at least 120 credits, and has registered for at least 6 semesters ."
   ]
  },
  {
   "cell_type": "code",
   "execution_count": 8,
   "metadata": {
    "collapsed": false,
    "deletable": true,
    "editable": true
   },
   "outputs": [
    {
     "name": "stdout",
     "output_type": "stream",
     "text": [
      "Not Eligible for Graduation.\n"
     ]
    }
   ],
   "source": [
    "semesters = 0 # fill your value\n",
    "credits = 0 # fill your value\n",
    "\n",
    "if(semesters >= 6 and credits >= 120):\n",
    "    print(\"Eligible for Graduation!\")\n",
    "else:\n",
    "    print(\"Not Eligible for Graduation.\")"
   ]
  },
  {
   "cell_type": "markdown",
   "metadata": {
    "deletable": true,
    "editable": true
   },
   "source": [
    "* Can I register today? A student can register on Monday if Senior, on Tuesday if Junior, on Wednesday if Sophomore, and on Thursday if Freshman."
   ]
  },
  {
   "cell_type": "code",
   "execution_count": 9,
   "metadata": {
    "collapsed": false,
    "deletable": true,
    "editable": true
   },
   "outputs": [
    {
     "name": "stdout",
     "output_type": "stream",
     "text": [
      "No, you can't register.\n"
     ]
    }
   ],
   "source": [
    "days = 'Sunday' #also 'Monday', 'Tuesday', 'Wednesday', 'Thurday', 'Friday', 'Saturday'\n",
    "status = 'Senior' #also 'Junior', 'Sophomore', 'Freshman'\n",
    "\n",
    "if(status == 'Senior' and days == \"Monday\"):\n",
    "    print(\"Yes, you can register!\")\n",
    "elif(status == 'Junior' and days == \"Tuesday\"):\n",
    "    print(\"Yes, you can register!\")\n",
    "elif(status == 'Sophomore' and days == \"Wednesday\"):\n",
    "    print(\"Yes, you can register!\")\n",
    "elif(status == 'Freshman' and days == \"Thursday\"):\n",
    "    print(\"Yes, you can register!\")\n",
    "else:\n",
    "    print(\"No, you can't register.\")"
   ]
  },
  {
   "cell_type": "markdown",
   "metadata": {
    "deletable": true,
    "editable": true
   },
   "source": [
    "#### (4pts) F. Compute and print both roots of the quadratic equation x^2-5.86\\*x+8.5408.\n",
    "\n",
    "Hint: recall that the roots of a quadratic equation $a \\cdot x^2+ b \\cdot x+c$ are $x = \n",
    "\\frac{−b ± \\sqrt{b^2 − 4 \\cdot a \\cdot c}}{ 2 \\cdot a}$\n"
   ]
  },
  {
   "cell_type": "code",
   "execution_count": 10,
   "metadata": {
    "collapsed": false,
    "deletable": true,
    "editable": true
   },
   "outputs": [
    {
     "name": "stdout",
     "output_type": "stream",
     "text": [
      "the roots are 2.7 and 3.1\n"
     ]
    }
   ],
   "source": [
    "a = 1.0\n",
    "b = -5.86\n",
    "c = 8.5408\n",
    "\n",
    "squareRoot = math.sqrt((b**2) - (4 * a * c))\n",
    "lowerRoot = (-b - squareRoot) / (2 * a)\n",
    "upperRoot = (-b + squareRoot) / (2 * a)\n",
    "\n",
    "print(\"the roots are\", \"%.1f\" % lowerRoot, \"and\", \"%.1f\"% upperRoot )"
   ]
  },
  {
   "cell_type": "markdown",
   "metadata": {
    "deletable": true,
    "editable": true
   },
   "source": [
    "#### (6pts) G. The students received their grades for a midterm exam, in the form of lists. The list contains the score each student received, for each question in the midterm. However, the professor was so absent minded that he forgot to sum up the points to compute the overall grade for each student.\n",
    "\n",
    "* (1pts) How many questions were in the midterm?\n",
    "* (1pts) Write code to compute the overall grade of each student. Add the overall in a new list called `grades`.\n",
    "* (4pts) Compute the maximum, minimum, average, and median grade among the overall student grades."
   ]
  },
  {
   "cell_type": "code",
   "execution_count": 11,
   "metadata": {
    "collapsed": false,
    "deletable": true,
    "editable": true
   },
   "outputs": [
    {
     "name": "stdout",
     "output_type": "stream",
     "text": [
      "There were 10 questions on the exam.\n",
      "\n",
      "studentA scored 29 points.\n",
      "studentB scored 28 points.\n",
      "studentC scored 27 points.\n",
      "studentD scored 25 points.\n",
      "studentE scored 39 points.\n",
      "\n",
      "The minimum grade was: 25\n",
      "The maximum grade was: 39\n",
      "The total grade was: 148\n",
      "The average grade was: 29.6\n",
      "The median grade was: 28\n"
     ]
    }
   ],
   "source": [
    "studentA = [5, 2, 3, 1, 2, 4, 5, 5, 1, 1]\n",
    "studentB = [1, 2, 5, 5, 2, 0, 1, 5, 5, 2]\n",
    "studentC = [2, 5, 5, 5, 5, 0, 1, 3, 1, 0]\n",
    "studentD = [0, 1, 0, 5, 2, 5, 1, 3, 3, 5]\n",
    "studentE = [5, 4, 5, 5, 1, 5, 1, 4, 4, 5]\n",
    "\n",
    "#create some lists to iterate through\n",
    "students = [\"studentA\", \"studentB\", \"studentC\", \"studentD\", \"studentE\"]\n",
    "grades = [studentA, studentB, studentC, studentD, studentE]\n",
    "\n",
    "#initialize some variables\n",
    "mingrade = -1\n",
    "maxgrade = -1\n",
    "totalgrade = 0\n",
    "gradesList = []\n",
    "\n",
    "#use the length of the \"StudentA\" list to provide the length of the exam\n",
    "print(\"There were\", len(studentA),\"questions on the exam.\")\n",
    "print(\"\")\n",
    "\n",
    "for student in range(len(students)):\n",
    "    grade = 0    \n",
    "    for question in grades[student]:\n",
    "        grade = grade + question\n",
    "    print(students[student],\"scored\", grade, \"points.\")\n",
    "    \n",
    "    if(mingrade == -1 or mingrade >= grade):\n",
    "        mingrade = grade\n",
    "    if(maxgrade == -1 or maxgrade <= grade):\n",
    "        maxgrade = grade\n",
    "    \n",
    "    totalgrade = totalgrade + grade\n",
    "    \n",
    "    gradesList.append(grade)\n",
    "\n",
    "gradesList = sorted(gradesList)\n",
    "\n",
    "if(len(students) % 2 == 0):\n",
    "    mediangrade = (gradesList[int(len(students)/2)] + gradesList[int(len(students)/2)+1]) / 2\n",
    "else:\n",
    "    mediangrade = gradesList[int(len(students)/2)]\n",
    "\n",
    "print(\"\")\n",
    "print(\"The minimum grade was:\", mingrade)\n",
    "print(\"The maximum grade was:\", maxgrade)\n",
    "print(\"The total grade was:\", totalgrade)\n",
    "print(\"The average grade was:\", totalgrade/len(students))\n",
    "print(\"The median grade was:\", mediangrade)\n",
    "\n",
    "        "
   ]
  },
  {
   "cell_type": "markdown",
   "metadata": {
    "deletable": true,
    "editable": true
   },
   "source": [
    "#### (12pts) H.  You are given two articles below, regarding North and South Korea. The `article1` is from [Reuters](http://www.reuters.com/article/us-un-assembly-southkorea-northkorea-idUSKCN11T04N) and `article2` is from [Korea Herald](http://www.koreaherald.com/view.php?ud=20160923000173).\n",
    "\n",
    "* (1pts) Compute the length of each article in characters.\n",
    "* (1pts) Compute the length of each article length in words.\n",
    "* (1pts) Compute the length of each article in sentences. Assume that the period `.` is the separator between sentences.\n",
    "* (1pts) What is the average length of each sentence in words, for each article?\n",
    "* (1pts) How many distinct words appear in each of the two articles? Convert the articles to lowercase before the calculation.\n",
    "* (2pts) Is `Obama` mentioned in `article1`? Is `Obama` mentioned in `article2`?\n",
    "* (2pts) How many times is `Korea` mentioned in in `article1` and how many times in `article2`?\n",
    "* (3pts) Compute the Jaccard similarity between `article1` and `article2`  "
   ]
  },
  {
   "cell_type": "code",
   "execution_count": 12,
   "metadata": {
    "collapsed": false,
    "deletable": true,
    "editable": true,
    "scrolled": true
   },
   "outputs": [
    {
     "name": "stdout",
     "output_type": "stream",
     "text": [
      "article0 has 2455 characters.\n",
      "article0 has 393 words.\n",
      "article0 has 32 sentences.\n",
      "article0 has an average of 5.25 letters per word.\n",
      "article0 has an average of 12.62 words per sentence.\n",
      "article0 has 208 unique words.\n",
      "article0 mentions of Obama 1 time.\n",
      "article0 mentions of Korea 14 times.\n",
      "\n",
      "article1 has 2876 characters.\n",
      "article1 has 476 words.\n",
      "article1 has 19 sentences.\n",
      "article1 has an average of 5.04 letters per word.\n",
      "article1 has an average of 25.05 words per sentence.\n",
      "article1 has 241 unique words.\n",
      "article1 doesn't mention Obama.\n",
      "article1 mentions of Korea 6 times.\n",
      "\n",
      "These articles have a Jaquard Similarity index of: 0.1754\n"
     ]
    }
   ],
   "source": [
    "article1 = \"\"\"South Korean Foreign Minister Yun Byung-se accused North Korea on Thursday of \"totally ridiculing\" the authority of the United Nations through its nuclear and missile tests and said it was time to reconsider whether it was qualified for U.N. membership. In an address to the annual United Nations General Assembly, Yun said the U.N. security Council should adopt \"stronger, comprehensive\" sanctions on North Korea after its fifth nuclear test on Sept. 9 and close loopholes in existing measures. \"North Korea's repeated violations and non-compliance of Security Council resolutions and international norms is unprecedented and has no parallel in the history of the U.N.,\" Yun said. \"North Korea is totally ridiculing the authority of the General Assembly and the Security Council,\" he said. \"Therefore, I believe it is high time to seriously reconsider whether North Korea is qualified as a peace-loving U.N. member, as many countries are already questioning.\" Yun said North Korea had not only advanced its nuclear and missile capacity, but publicly threatened to use those weapons preemptively. He said it was the \"last chance\" to put a brake on its nuclear ambitions. Yun also called for action against North Korea's violations of the rights of its own people, and said there should be greater focus on North Korean workers abroad and the possible diversion of their wages to weapons programs.Discussions are already under way on a possible new U.N. sanctions resolution on North Korea after its latest nuclear test. Analysts and diplomats say much depends on China's attitude. China is North Korea's main ally, but has been angered by its repeated missile and nuclear tests and backed tough U.N. sanctions on Pyongyang in March. At the same time, it has repeatedly called for a return to international talks to resolve the issue, in spite of the skepticism of other world powers. Chinese Premier Li Keqiang told the General Assembly on Wednesday countries must remain committed to denuclearization of the Korean peninsula, while seeking a solution to the North Korean nuclear issue through dialogue. The United States said Li and U.S. President Barack Obama agreed in New York on Monday to step up cooperation in the U.N. Security Council and in law enforcement channels Japanese Prime Minister Shinzo Abe said on Wednesday the threat posed by North Korea was \"substantially more serious\" than in the past and demanded an \"entirely distinct\" response.\"\"\"\n",
    "article2 = \"\"\"The UN Security Council should go beyond simply discussing North Korea's human rights violations and take \"meaningful action,\" South Korean Foreign Minister Yun Byung-se said Thursday, as the council is considering fresh sanctions on Pyongyang for its fifth nuclear test. Yun made the remark during a meeting with South Korean correspondents in New York, saying the North's human rights abuses will be one of the key focuses of an address he was scheduled to deliver at the UN General Assembly later in the day. Yun said it makes no sense for the North to ask for international aid to cope with the aftermath of a massive flood after wasting money on a nuclear test. \"North Korea cares nothing about people's hardships while wasting an enormous amount of money. I will strongly point out these dual attitudes and the North's disregard for human rights at the United Nations,\" Yun told reporters Yun's remarks came as the Security Council has been working on new sanctions on the North for its Sept. 9 nuclear test, and suggest that a new sanctions package could include measures with regard to Pyongyang's human rights violations. A senior government official also said on condition of anonymity that the Security Council might impose sanctions not only over the North's nuclear and missile programs, but also over its human rights abuses. The official spoke on condition of anonymity. The official also said a new sanctions resolution is expected to be adopted in a shorter period of time than after the North's fourth nuclear test in January when it took 57 days to adopt a resolution. \"I expect an additional resolution will be adopted within a reasonable period of time,\" the official said. The official also said that the previous resolution, considered the toughest sanctions on the North ever, is having considerable effects on the North. The US is also expected to take additional unilateral sanctions on Pyongyang, too, the official said. The official said it's not the right time to hold negotiations with the North because it could justify the North's bad behavior. The UN General Assembly adopted a landmark resolution calling for referring the issue to the International Criminal Court for two years in a row in 2014 and last year. Under the resolutions, the Security Council also held discussions on the issue twice. While in New York, Yun said he has held meetings with various US figures that could lead the security and foreign policy in the next US administration. He did not provide further specifics, including who those people were, and which campaign they're with. Yun said that he stressed in those meetings that the Korea-US alliance is a key pillar in the Asia-Pacific region and a core point of the rebalancing toward Asia-Pacific, and that the Korea-US free trade agreement has contributed greatly to enhancing mutual interests of the two countries.\"\"\"\n",
    "\n",
    "#articleNames = [\"article1\", \"article2\"]\n",
    "listOfArticles = [article1, article2]\n",
    "articleText = \"\"\n",
    "\n",
    "for i in range(len(listOfArticles)):\n",
    "    articleName = \"article\" + str(i)\n",
    "    articleText = listOfArticles[i]\n",
    "    #print(type(articleText))\n",
    "    print(articleName, \"has\", len(articleText), \"characters.\")\n",
    "    \n",
    "    articleWords = articleText.split()\n",
    "    print(articleName, \"has\", len(articleWords), \"words.\")\n",
    "    \n",
    "    articleSentences = articleText.split(\".\")\n",
    "    print(articleName, \"has\", len(articleSentences), \"sentences.\")\n",
    "    \n",
    "    totalLetters = 0\n",
    "    for word in articleWords:\n",
    "        totalLetters = totalLetters + len(word)\n",
    "    print(articleName, \"has an average of\", \"%.2f\" % (totalLetters / len(articleWords)), \"letters per word.\")\n",
    "    \n",
    "    totalWords = 0\n",
    "    for sentence in articleSentences:\n",
    "        totalWords = totalWords + len(sentence.split())\n",
    "    print(articleName, \"has an average of\", \"%.2f\" % (totalWords / len(articleSentences)), \"words per sentence.\")\n",
    "    \n",
    "    #Making the article lowercase\n",
    "    lowercaseText = articleText.lower()\n",
    "    articleWords = lowercaseText.split()\n",
    "    print(articleName, \"has\", len(set(articleWords)), \"unique words.\")\n",
    "    \n",
    "    wordCounted = \"Obama\"    \n",
    "    numberOfOccurences = articleText.count(wordCounted)\n",
    "    if(numberOfOccurences == 0):\n",
    "        print(articleName, \"doesn't mention\", wordCounted + \".\")\n",
    "    elif(numberOfOccurences == 1):\n",
    "        print(articleName, \"mentions of\", wordCounted, numberOfOccurences, \"time.\")\n",
    "    else:\n",
    "        print(articleName, \"mentions of\", wordCounted, numberOfOccurences, \"times.\")\n",
    "    \n",
    "    wordCounted = \"Korea\"    \n",
    "    numberOfOccurences = articleText.count(wordCounted)\n",
    "    if(numberOfOccurences == 0):\n",
    "        print(articleName, \"doesn't mention\", wordCounted + \".\")\n",
    "    elif(numberOfOccurences == 1):\n",
    "        print(articleName, \"mentions of\", wordCounted, numberOfOccurences, \"time.\")\n",
    "    else:\n",
    "        print(articleName, \"mentions of\", wordCounted, numberOfOccurences, \"times.\")\n",
    "    \n",
    "    print(\"\")\n",
    "\n",
    "\n",
    "lowerArticle1 = article1.lower()\n",
    "lowerArticle2 = article2.lower()\n",
    "uniqueArticleWords1 = set(lowerArticle1.split())\n",
    "uniqueArticleWords2 = set(lowerArticle2.split())\n",
    "sharedWords = len(set.intersection(uniqueArticleWords1, uniqueArticleWords2))\n",
    "totalUniqueWords = len(set.union(uniqueArticleWords1, uniqueArticleWords2))\n",
    "similarity = sharedWords / totalUniqueWords\n",
    "\n",
    "print(\"These articles have a Jaquard Similarity index of:\", \"%.4f\" % similarity)\n",
    "\n",
    "\n",
    "\n",
    "\n",
    "\n"
   ]
  }
 ],
 "metadata": {
  "kernelspec": {
   "display_name": "Python 3",
   "language": "python",
   "name": "python3"
  },
  "language_info": {
   "codemirror_mode": {
    "name": "ipython",
    "version": 3
   },
   "file_extension": ".py",
   "mimetype": "text/x-python",
   "name": "python",
   "nbconvert_exporter": "python",
   "pygments_lexer": "ipython3",
   "version": "3.6.0"
  }
 },
 "nbformat": 4,
 "nbformat_minor": 0
}
