{
 "cells": [
  {
   "cell_type": "markdown",
   "metadata": {
    "deletable": true,
    "editable": true
   },
   "source": [
    "### Assignment 3: If-else statements, For loops, Functions\n",
    "\n",
    "#### Your Name:\n",
    "\n",
    "#### Your NYU Email:"
   ]
  },
  {
   "cell_type": "markdown",
   "metadata": {
    "deletable": true,
    "editable": true
   },
   "source": [
    "#### A. Voting Eligibility (5pts)\n",
    "\n",
    "You need to be above 18 and a US Citizen, to be able to vote. You also need to be registered. Write the conditional expression that checks for these conditions and prints out whether the person can vote. If the person cannot vote, the code should print out the reason (below 18, or not a US citizen, or not registered, or a combination thereof).\n"
   ]
  },
  {
   "cell_type": "code",
   "execution_count": null,
   "metadata": {
    "collapsed": false,
    "deletable": true,
    "editable": true
   },
   "outputs": [],
   "source": [
    "age = 0 # an integer...\n",
    "citizen = False\n",
    "registered = False"
   ]
  },
  {
   "cell_type": "markdown",
   "metadata": {
    "deletable": true,
    "editable": true
   },
   "source": [
    "#### B. Pay Rate (5pts)\n",
    "\n",
    "A worker gets paid an hourly wage, when working up to 40 hours per week. When the time at work goes above 40 hours in a week, the worker is being paid overtime rate, which is 1.5 times the hourly wage. Given the hours worked per week, and the hourly wage, compute the weekly salary of the worker."
   ]
  },
  {
   "cell_type": "code",
   "execution_count": null,
   "metadata": {
    "collapsed": true,
    "deletable": true,
    "editable": true
   },
   "outputs": [],
   "source": [
    "hourly_wage = 25.75\n",
    "hours_per_week = 40.5\n",
    "\n",
    "# your code here\n",
    "\n",
    "print(\"The weekly salary is ${s}\".format(s=weekly_salary))"
   ]
  },
  {
   "cell_type": "markdown",
   "metadata": {
    "deletable": true,
    "editable": true
   },
   "source": [
    "#### C. Course grade (5pts)\n",
    "\n",
    "Write a program to prompt for a score between 0.0 and 1.0. If the\n",
    "score is out of range, print an error message. If the score is between 0.0 and 1.0,\n",
    "print a grade using the following table:\n",
    "\n",
    "```\n",
    "Score   Grade\n",
    ">1      Error: Too big\n",
    ">=0.9   A\n",
    ">=0.8   B\n",
    ">=0.7   C\n",
    ">=0.6   D\n",
    "<0.6    F\n",
    "<0      Error: Too small\n",
    "```"
   ]
  },
  {
   "cell_type": "code",
   "execution_count": null,
   "metadata": {
    "collapsed": true,
    "deletable": true,
    "editable": true
   },
   "outputs": [],
   "source": []
  },
  {
   "cell_type": "markdown",
   "metadata": {
    "deletable": true,
    "editable": true
   },
   "source": [
    "#### D. Restaurant Meal Price (15 pts)"
   ]
  },
  {
   "cell_type": "markdown",
   "metadata": {
    "deletable": true,
    "editable": true
   },
   "source": [
    "_Part 1_. Write code that computes the total price of the meal in a restaurant. You know that:\n",
    "\n",
    "* The price of the food is $15. \n",
    "* The NY State Tax rate is 8.875%. \n",
    "* The tipping percentage is 18% of the the overall cost of the meal (including tax).\n",
    "\n",
    "Use Python variables to perform the computation."
   ]
  },
  {
   "cell_type": "code",
   "execution_count": null,
   "metadata": {
    "collapsed": true,
    "deletable": true,
    "editable": true
   },
   "outputs": [],
   "source": []
  },
  {
   "cell_type": "markdown",
   "metadata": {
    "deletable": true,
    "editable": true
   },
   "source": [
    "_Part 2_. Write a **function** that computes the total price of the meal in a restaurant. The function takes as input the food price, the sales tax rate, and the tip percentage.\n"
   ]
  },
  {
   "cell_type": "code",
   "execution_count": null,
   "metadata": {
    "collapsed": true,
    "deletable": true,
    "editable": true
   },
   "outputs": [],
   "source": []
  },
  {
   "cell_type": "markdown",
   "metadata": {
    "deletable": true,
    "editable": true
   },
   "source": [
    "_Part 3_. Write a for loop that computes the total price of a meal, for different tipping rates, starting from 15% and ending at 25% (both inclusive) at 1% increments. Use the function from Part 2 as part of the loop."
   ]
  },
  {
   "cell_type": "code",
   "execution_count": null,
   "metadata": {
    "collapsed": true,
    "deletable": true,
    "editable": true
   },
   "outputs": [],
   "source": []
  },
  {
   "cell_type": "markdown",
   "metadata": {
    "deletable": true,
    "editable": true
   },
   "source": [
    "_Part 4._ Below you will find a dictionary with the tax rates for different states, expressed in percentiles. Iterate through all states and print the value of a meal, where the pre-tax food price is $20; show the prices for tip percentages of 15%, 20%, and 25%."
   ]
  },
  {
   "cell_type": "code",
   "execution_count": null,
   "metadata": {
    "collapsed": false,
    "deletable": true,
    "editable": true
   },
   "outputs": [],
   "source": [
    "tax = {\n",
    "    \"Alabama\": 13.50,\n",
    "    \"Alaska\": 7,\n",
    "    \"Arizona\": 10.73,\n",
    "    \"Arkansas\": 11.63,\n",
    "    \"California\": 10,\n",
    "    \"Colorado\": 10,\n",
    "    \"Connecticut\": 6.35,\n",
    "    \"Delaware\": 0,\n",
    "    \"District of Columbia\": 5.75,\n",
    "    \"Florida\": 7.50,\n",
    "    \"Georgia\": 8,\n",
    "    \"Hawaii\": 4.50,\n",
    "    \"Idaho\": 8.50,\n",
    "    \"Illinois\": 9.75,\n",
    "    \"Indiana\": 7,\n",
    "    \"Iowa\": 7,\n",
    "    \"Kansas\": 9.65,\n",
    "    \"Kentucky\": 6,\n",
    "    \"Louisiana\": 11,\n",
    "    \"Maine\": 5.50,\n",
    "    \"Maryland\": 6,\n",
    "    \"Massachusetts\": 6.25,\n",
    "    \"Michigan\": 6,\n",
    "    \"Minnesota\": 7.88,\n",
    "    \"Mississippi\": 7.25,\n",
    "    \"Missouri\": 9.35,\n",
    "    \"Montana\": 0,\n",
    "    \"Nebraska\": 7.50,\n",
    "    \"Nevada\": 8.10,\n",
    "    \"New Hampshire\": 0,\n",
    "    \"New Jersey\": 7,\n",
    "    \"New Mexico\": 8.69,\n",
    "    \"New York\": 8.88,\n",
    "    \"North Carolina\": 7.50,\n",
    "    \"North Dakota\": 8,\n",
    "    \"Ohio\": 8,\n",
    "    \"Oklahoma\": 11,\n",
    "    \"Oregon\": 0,\n",
    "    \"Pennsylvania\": 8,\n",
    "    \"Rhode Island\": 7,\n",
    "    \"South Carolina\": 9,\n",
    "    \"South Dakota\": 6,\n",
    "    \"Tennessee\": 9.75,\n",
    "    \"Texas\": 8.25,\n",
    "    \"Utah\": 8.35,\n",
    "    \"Vermont\": 7,\n",
    "    \"Virginia\": 6,\n",
    "    \"Washington\": 9.60,\n",
    "    \"West Virginia\": 7,\n",
    "    \"Wisconsin\": 5.60,\n",
    "    \"Wyoming\": 6,\n",
    "}"
   ]
  },
  {
   "cell_type": "code",
   "execution_count": null,
   "metadata": {
    "collapsed": false,
    "deletable": true,
    "editable": true
   },
   "outputs": [],
   "source": []
  },
  {
   "cell_type": "markdown",
   "metadata": {
    "deletable": true,
    "editable": true
   },
   "source": [
    "#### E. Search within a file (5 pts)\n",
    "\n",
    "Read the file `restaurant-names.txt` which is stored under:\n",
    "    `/home/ubuntu/ipynb/NYU_Notes/2-Introduction_to_Python/data/restaurant-names.txt`\n",
    "   and answer the following questions:\n",
    "   * How many restaurants appear in the dataset?\n",
    "   * Print the restaurants that contain the word `GREEK` in their name.\n",
    "   * How many restaurants contain the word `PIZZA` in their name?"
   ]
  },
  {
   "cell_type": "code",
   "execution_count": null,
   "metadata": {
    "collapsed": false,
    "deletable": true,
    "editable": true
   },
   "outputs": [],
   "source": []
  },
  {
   "cell_type": "markdown",
   "metadata": {
    "deletable": true,
    "editable": true
   },
   "source": [
    "#### F.  Road Pricing System (5 pts)\n",
    "\n",
    "The Transport Authority is implementing a new Road Pricing system. The authorities decided that the cars will be charged based on distance travelled, on a per mile basis. A car will be charged \\$0.50/mi, a van \\$2.1/mi and taxis travel for free. Create a function to determine how much a particular vehicle would be charged based on a particular distance. The function should take as input the type of the car and the distance travelled, and return the charged price."
   ]
  },
  {
   "cell_type": "code",
   "execution_count": null,
   "metadata": {
    "collapsed": true,
    "deletable": true,
    "editable": true
   },
   "outputs": [],
   "source": []
  },
  {
   "cell_type": "markdown",
   "metadata": {
    "deletable": true,
    "editable": true
   },
   "source": [
    "#### G. Most Common Item (10 pts)\n",
    "\n",
    "_Part 1_. Write a function that takes in a list and returns the most common item in the list. _Hint: Make use of `set`, and use a `for` loop to iterate through all the unique values of the list. Use the `list.count(...)` function to find the frequency of each item. While you iterate through the elements of the list, use a variable that keeps the value of the most common element that you have seen so far. Return the item with the highest frequency_\n",
    "\n"
   ]
  },
  {
   "cell_type": "code",
   "execution_count": null,
   "metadata": {
    "collapsed": false,
    "deletable": true,
    "editable": true
   },
   "outputs": [],
   "source": [
    "example = [\"Kanisha\", \"Candance\", \"Lila\", \"Lupe\", \"Alexander\", \"Candance\", \n",
    "           \"Irvin\", \"Kanisha\", \"Lila\", \"May\", \"Lila\", \"Alexander\", \"Ivana\", \"Alexander\"]\n",
    "\n",
    "example.count(\"Candance\")"
   ]
  },
  {
   "cell_type": "markdown",
   "metadata": {
    "collapsed": true,
    "deletable": true,
    "editable": true
   },
   "source": [
    "_Part 2_. Use the function that you created here to find the most frequent restaurant name from the dataset used in question (E)."
   ]
  },
  {
   "cell_type": "code",
   "execution_count": null,
   "metadata": {
    "collapsed": true,
    "deletable": true,
    "editable": true
   },
   "outputs": [],
   "source": []
  }
 ],
 "metadata": {
  "kernelspec": {
   "display_name": "Python 3",
   "language": "python",
   "name": "python3"
  },
  "language_info": {
   "codemirror_mode": {
    "name": "ipython",
    "version": 3
   },
   "file_extension": ".py",
   "mimetype": "text/x-python",
   "name": "python",
   "nbconvert_exporter": "python",
   "pygments_lexer": "ipython3",
   "version": "3.5.2"
  }
 },
 "nbformat": 4,
 "nbformat_minor": 0
}
